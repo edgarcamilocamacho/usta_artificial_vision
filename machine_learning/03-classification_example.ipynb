{
 "cells": [
  {
   "cell_type": "markdown",
   "metadata": {},
   "source": [
    "# UNIVERSIDAD SANTO TOMÁS\n",
    "## Facultad de Ingeniería Electrónica\n",
    "### Machine Learning en Visión Artificial"
   ]
  },
  {
   "cell_type": "markdown",
   "metadata": {},
   "source": [
    "Regresión logística y clasificación"
   ]
  },
  {
   "cell_type": "markdown",
   "metadata": {},
   "source": [
    "Prerequisitos:\n",
    "* sklearn"
   ]
  },
  {
   "cell_type": "markdown",
   "metadata": {},
   "source": [
    "Importar librerías en general"
   ]
  },
  {
   "cell_type": "code",
   "execution_count": 1,
   "metadata": {},
   "outputs": [],
   "source": [
    "import numpy as np\n",
    "import matplotlib.pyplot as plt \n",
    "\n",
    "%matplotlib inline"
   ]
  },
  {
   "cell_type": "markdown",
   "metadata": {},
   "source": [
    "### Importando el dataset\n",
    "\n",
    "De la librería *sklearn*, importar el dataset de cáncer de mama."
   ]
  },
  {
   "cell_type": "code",
   "execution_count": 2,
   "metadata": {},
   "outputs": [],
   "source": [
    "from sklearn.datasets import load_breast_cancer"
   ]
  },
  {
   "cell_type": "markdown",
   "metadata": {},
   "source": [
    "Descargar el dataset y guardarlo en variables locales (la descarga sólo se hace la primera vez):"
   ]
  },
  {
   "cell_type": "code",
   "execution_count": 3,
   "metadata": {},
   "outputs": [],
   "source": [
    "cancer_dataset = load_breast_cancer()"
   ]
  },
  {
   "cell_type": "markdown",
   "metadata": {},
   "source": [
    "*cancer_dataset* es un diccionario, a continuación las llaves que lo componen:"
   ]
  },
  {
   "cell_type": "code",
   "execution_count": 4,
   "metadata": {},
   "outputs": [
    {
     "name": "stdout",
     "output_type": "stream",
     "text": [
      "dict_keys(['data', 'target', 'frame', 'target_names', 'DESCR', 'feature_names', 'filename'])\n"
     ]
    }
   ],
   "source": [
    "print(cancer_dataset.keys())"
   ]
  },
  {
   "cell_type": "markdown",
   "metadata": {},
   "source": [
    "## Datos de Entrenamiento\n",
    "\n",
    "### Entradas $X$\n",
    "\n",
    "Los datos de *data* corresponden a las entradas del dataset, $X$, y se almacenan en un arreglo de *numpy*."
   ]
  },
  {
   "cell_type": "code",
   "execution_count": 5,
   "metadata": {},
   "outputs": [
    {
     "name": "stdout",
     "output_type": "stream",
     "text": [
      "<class 'numpy.ndarray'>\n"
     ]
    }
   ],
   "source": [
    "X = cancer_dataset.data\n",
    "print(type(X))"
   ]
  },
  {
   "cell_type": "markdown",
   "metadata": {},
   "source": [
    "$X$ tiene 569 registros, cada uno con 30 características:"
   ]
  },
  {
   "cell_type": "code",
   "execution_count": 6,
   "metadata": {},
   "outputs": [
    {
     "name": "stdout",
     "output_type": "stream",
     "text": [
      "X.shape = (569, 30)\n"
     ]
    }
   ],
   "source": [
    "print( f'X.shape = {X.shape}' )"
   ]
  },
  {
   "cell_type": "markdown",
   "metadata": {},
   "source": [
    "Cada característica corresponde a un número decimal, por ejemplo el quinto registro:"
   ]
  },
  {
   "cell_type": "code",
   "execution_count": 7,
   "metadata": {},
   "outputs": [
    {
     "name": "stdout",
     "output_type": "stream",
     "text": [
      "[2.029e+01 1.434e+01 1.351e+02 1.297e+03 1.003e-01 1.328e-01 1.980e-01\n",
      " 1.043e-01 1.809e-01 5.883e-02 7.572e-01 7.813e-01 5.438e+00 9.444e+01\n",
      " 1.149e-02 2.461e-02 5.688e-02 1.885e-02 1.756e-02 5.115e-03 2.254e+01\n",
      " 1.667e+01 1.522e+02 1.575e+03 1.374e-01 2.050e-01 4.000e-01 1.625e-01\n",
      " 2.364e-01 7.678e-02]\n"
     ]
    }
   ],
   "source": [
    "print(X[4])"
   ]
  },
  {
   "cell_type": "markdown",
   "metadata": {},
   "source": [
    "El dataset incluye una descripción de cada una de las características:"
   ]
  },
  {
   "cell_type": "code",
   "execution_count": 8,
   "metadata": {},
   "outputs": [
    {
     "name": "stdout",
     "output_type": "stream",
     "text": [
      ".. _breast_cancer_dataset:\n",
      "\n",
      "Breast cancer wisconsin (diagnostic) dataset\n",
      "--------------------------------------------\n",
      "\n",
      "**Data Set Characteristics:**\n",
      "\n",
      "    :Number of Instances: 569\n",
      "\n",
      "    :Number of Attributes: 30 numeric, predictive attributes and the class\n",
      "\n",
      "    :Attribute Information:\n",
      "        - radius (mean of distances from center to points on the perimeter)\n",
      "        - texture (standard deviation of gray-scale values)\n",
      "        - perimeter\n",
      "        - area\n",
      "        - smoothness (local variation in radius lengths)\n",
      "        - compactness (perimeter^2 / area - 1.0)\n",
      "        - concavity (severity of concave portions of the contour)\n",
      "        - concave points (number of concave portions of the contour)\n",
      "        - symmetry\n",
      "        - fractal dimension (\"coastline approximation\" - 1)\n",
      "\n",
      "        The mean, standard error, and \"worst\" or largest (mean of the three\n",
      "        worst/largest values) of these features were computed for each image,\n",
      "        resulting in 30 features.  For instance, field 0 is Mean Radius, field\n",
      "        10 is Radius SE, field 20 is Worst Radius.\n",
      "\n",
      "        - class:\n",
      "                - WDBC-Malignant\n",
      "                - WDBC-Benign\n",
      "\n",
      "    :Summary Statistics:\n",
      "\n",
      "    ===================================== ====== ======\n",
      "                                           Min    Max\n",
      "    ===================================== ====== ======\n",
      "    radius (mean):                        6.981  28.11\n",
      "    texture (mean):                       9.71   39.28\n",
      "    perimeter (mean):                     43.79  188.5\n",
      "    area (mean):                          143.5  2501.0\n",
      "    smoothness (mean):                    0.053  0.163\n",
      "    compactness (mean):                   0.019  0.345\n",
      "    concavity (mean):                     0.0    0.427\n",
      "    concave points (mean):                0.0    0.201\n",
      "    symmetry (mean):                      0.106  0.304\n",
      "    fractal dimension (mean):             0.05   0.097\n",
      "    radius (standard error):              0.112  2.873\n",
      "    texture (standard error):             0.36   4.885\n",
      "    perimeter (standard error):           0.757  21.98\n",
      "    area (standard error):                6.802  542.2\n",
      "    smoothness (standard error):          0.002  0.031\n",
      "    compactness (standard error):         0.002  0.135\n",
      "    concavity (standard error):           0.0    0.396\n",
      "    concave points (standard error):      0.0    0.053\n",
      "    symmetry (standard error):            0.008  0.079\n",
      "    fractal dimension (standard error):   0.001  0.03\n",
      "    radius (worst):                       7.93   36.04\n",
      "    texture (worst):                      12.02  49.54\n",
      "    perimeter (worst):                    50.41  251.2\n",
      "    area (worst):                         185.2  4254.0\n",
      "    smoothness (worst):                   0.071  0.223\n",
      "    compactness (worst):                  0.027  1.058\n",
      "    concavity (worst):                    0.0    1.252\n",
      "    concave points (worst):               0.0    0.291\n",
      "    symmetry (worst):                     0.156  0.664\n",
      "    fractal dimension (worst):            0.055  0.208\n",
      "    ===================================== ====== ======\n",
      "\n",
      "    :Missing Attribute Values: None\n",
      "\n",
      "    :Class Distribution: 212 - Malignant, 357 - Benign\n",
      "\n",
      "    :Creator:  Dr. William H. Wolberg, W. Nick Street, Olvi L. Mangasarian\n",
      "\n",
      "    :Donor: Nick Street\n",
      "\n",
      "    :Date: November, 1995\n",
      "\n",
      "This is a copy of UCI ML Breast Cancer Wisconsin (Diagnostic) datasets.\n",
      "https://goo.gl/U2Uwz2\n",
      "\n",
      "Features are computed from a digitized image of a fine needle\n",
      "aspirate (FNA) of a breast mass.  They describe\n",
      "characteristics of the cell nuclei present in the image.\n",
      "\n",
      "Separating plane described above was obtained using\n",
      "Multisurface Method-Tree (MSM-T) [K. P. Bennett, \"Decision Tree\n",
      "Construction Via Linear Programming.\" Proceedings of the 4th\n",
      "Midwest Artificial Intelligence and Cognitive Science Society,\n",
      "pp. 97-101, 1992], a classification method which uses linear\n",
      "programming to construct a decision tree.  Relevant features\n",
      "were selected using an exhaustive search in the space of 1-4\n",
      "features and 1-3 separating planes.\n",
      "\n",
      "The actual linear program used to obtain the separating plane\n",
      "in the 3-dimensional space is that described in:\n",
      "[K. P. Bennett and O. L. Mangasarian: \"Robust Linear\n",
      "Programming Discrimination of Two Linearly Inseparable Sets\",\n",
      "Optimization Methods and Software 1, 1992, 23-34].\n",
      "\n",
      "This database is also available through the UW CS ftp server:\n",
      "\n",
      "ftp ftp.cs.wisc.edu\n",
      "cd math-prog/cpo-dataset/machine-learn/WDBC/\n",
      "\n",
      ".. topic:: References\n",
      "\n",
      "   - W.N. Street, W.H. Wolberg and O.L. Mangasarian. Nuclear feature extraction \n",
      "     for breast tumor diagnosis. IS&T/SPIE 1993 International Symposium on \n",
      "     Electronic Imaging: Science and Technology, volume 1905, pages 861-870,\n",
      "     San Jose, CA, 1993.\n",
      "   - O.L. Mangasarian, W.N. Street and W.H. Wolberg. Breast cancer diagnosis and \n",
      "     prognosis via linear programming. Operations Research, 43(4), pages 570-577, \n",
      "     July-August 1995.\n",
      "   - W.H. Wolberg, W.N. Street, and O.L. Mangasarian. Machine learning techniques\n",
      "     to diagnose breast cancer from fine-needle aspirates. Cancer Letters 77 (1994) \n",
      "     163-171.\n"
     ]
    }
   ],
   "source": [
    "print(cancer_dataset.DESCR)"
   ]
  },
  {
   "cell_type": "markdown",
   "metadata": {},
   "source": [
    "### Objetivos $Y$\n",
    "\n",
    "Cada muestra de $X$ tiene un correspondiente valor en $Y$, en este caso, la clase:"
   ]
  },
  {
   "cell_type": "code",
   "execution_count": 9,
   "metadata": {},
   "outputs": [
    {
     "name": "stdout",
     "output_type": "stream",
     "text": [
      "Y.shape=(569,)\n"
     ]
    }
   ],
   "source": [
    "Y = cancer_dataset.target\n",
    "print(f'Y.shape={Y.shape}')"
   ]
  },
  {
   "cell_type": "markdown",
   "metadata": {},
   "source": [
    "El quinto registro corresponde a *no cancer*:"
   ]
  },
  {
   "cell_type": "code",
   "execution_count": 10,
   "metadata": {},
   "outputs": [
    {
     "name": "stdout",
     "output_type": "stream",
     "text": [
      "Y[4]=0\n"
     ]
    }
   ],
   "source": [
    "print(f'Y[4]={Y[4]}')"
   ]
  },
  {
   "cell_type": "markdown",
   "metadata": {},
   "source": [
    "### Centrado y escalizado de los datos\n",
    "\n",
    "Cálculo del promedio"
   ]
  },
  {
   "cell_type": "code",
   "execution_count": 11,
   "metadata": {},
   "outputs": [
    {
     "name": "stdout",
     "output_type": "stream",
     "text": [
      "X_med=[1.41272917e+01 1.92896485e+01 9.19690334e+01 6.54889104e+02\n",
      " 9.63602812e-02 1.04340984e-01 8.87993158e-02 4.89191459e-02\n",
      " 1.81161863e-01 6.27976098e-02 4.05172056e-01 1.21685343e+00\n",
      " 2.86605923e+00 4.03370791e+01 7.04097891e-03 2.54781388e-02\n",
      " 3.18937163e-02 1.17961371e-02 2.05422988e-02 3.79490387e-03\n",
      " 1.62691898e+01 2.56772232e+01 1.07261213e+02 8.80583128e+02\n",
      " 1.32368594e-01 2.54265044e-01 2.72188483e-01 1.14606223e-01\n",
      " 2.90075571e-01 8.39458172e-02]\n"
     ]
    }
   ],
   "source": [
    "X_med = np.mean(X, axis=0)\n",
    "print(f'X_med={X_med}')"
   ]
  },
  {
   "cell_type": "markdown",
   "metadata": {},
   "source": [
    "Resta del promedio:"
   ]
  },
  {
   "cell_type": "code",
   "execution_count": 12,
   "metadata": {},
   "outputs": [
    {
     "name": "stdout",
     "output_type": "stream",
     "text": [
      "X.shape=(569, 30)\n"
     ]
    }
   ],
   "source": [
    "X = X - X_med\n",
    "print(f'X.shape={X.shape}')"
   ]
  },
  {
   "cell_type": "markdown",
   "metadata": {},
   "source": [
    "Cálculo de la desviación estándar:"
   ]
  },
  {
   "cell_type": "code",
   "execution_count": 13,
   "metadata": {},
   "outputs": [
    {
     "name": "stdout",
     "output_type": "stream",
     "text": [
      "X_std=[3.52095076e+00 4.29725464e+00 2.42776193e+01 3.51604754e+02\n",
      " 1.40517641e-02 5.27663291e-02 7.96497253e-02 3.87687325e-02\n",
      " 2.73901809e-02 7.05415588e-03 2.77068942e-01 5.51163427e-01\n",
      " 2.02007710e+00 4.54510134e+01 2.99987837e-03 1.78924359e-02\n",
      " 3.01595231e-02 6.16486075e-03 8.25910439e-03 2.64374475e-03\n",
      " 4.82899258e+00 6.14085432e+00 3.35730016e+01 5.68856459e+02\n",
      " 2.28123569e-02 1.57198171e-01 2.08440875e-01 6.56745545e-02\n",
      " 6.18130785e-02 1.80453893e-02]\n"
     ]
    }
   ],
   "source": [
    "X_std = np.std(X, axis=0)\n",
    "print(f'X_std={X_std}')"
   ]
  },
  {
   "cell_type": "markdown",
   "metadata": {},
   "source": [
    "Normalización:"
   ]
  },
  {
   "cell_type": "code",
   "execution_count": 14,
   "metadata": {},
   "outputs": [
    {
     "name": "stdout",
     "output_type": "stream",
     "text": [
      "X.shape=(569, 30)\n"
     ]
    }
   ],
   "source": [
    "X = X/X_std\n",
    "print(f'X.shape={X.shape}')"
   ]
  },
  {
   "cell_type": "markdown",
   "metadata": {},
   "source": [
    "Agregando unos para el *bias*:"
   ]
  },
  {
   "cell_type": "code",
   "execution_count": 15,
   "metadata": {},
   "outputs": [
    {
     "name": "stdout",
     "output_type": "stream",
     "text": [
      "X.shape=(569, 31)\n"
     ]
    }
   ],
   "source": [
    "X = np.append( np.ones((X.shape[0],1)), X, axis=1)\n",
    "print(f'X.shape={X.shape}')"
   ]
  },
  {
   "cell_type": "markdown",
   "metadata": {},
   "source": [
    "### División del Dataset"
   ]
  },
  {
   "cell_type": "code",
   "execution_count": 16,
   "metadata": {},
   "outputs": [],
   "source": [
    "import random"
   ]
  },
  {
   "cell_type": "markdown",
   "metadata": {},
   "source": [
    "Mezclando el dataset"
   ]
  },
  {
   "cell_type": "code",
   "execution_count": 17,
   "metadata": {},
   "outputs": [],
   "source": [
    "c = list(zip(X, Y))\n",
    "X_, Y_= zip(*c)"
   ]
  },
  {
   "cell_type": "code",
   "execution_count": 18,
   "metadata": {},
   "outputs": [],
   "source": [
    "X_ = np.array(X_)\n",
    "Y_ = np.array(Y_)"
   ]
  },
  {
   "cell_type": "markdown",
   "metadata": {},
   "source": [
    "70% para train y 30% para test"
   ]
  },
  {
   "cell_type": "code",
   "execution_count": 19,
   "metadata": {},
   "outputs": [],
   "source": [
    "train_size = int(X.shape[0]*0.7)\n",
    "Xtrain = X_[:train_size]\n",
    "Ytrain = Y_[:train_size]\n",
    "Xtest = X_[train_size:]\n",
    "Ytest = Y_[train_size:]"
   ]
  },
  {
   "cell_type": "code",
   "execution_count": 20,
   "metadata": {},
   "outputs": [
    {
     "name": "stdout",
     "output_type": "stream",
     "text": [
      "Xtrain.shape=(398, 31)\n",
      "Ytrain.shape=(398,)\n",
      "Xtest.shape=(171, 31)\n",
      "Ytest.shape=(171,)\n"
     ]
    }
   ],
   "source": [
    "print(f'Xtrain.shape={Xtrain.shape}')\n",
    "print(f'Ytrain.shape={Ytrain.shape}')\n",
    "print(f'Xtest.shape={Xtest.shape}')\n",
    "print(f'Ytest.shape={Ytest.shape}')"
   ]
  },
  {
   "cell_type": "markdown",
   "metadata": {},
   "source": [
    "### Hipótesis:\n",
    "\n",
    "$$z(x)=Wx$$\n",
    "\n",
    "$$y'=h_W(x)=\\frac{1}{1+e^{-z(x)}}$$"
   ]
  },
  {
   "cell_type": "code",
   "execution_count": 21,
   "metadata": {},
   "outputs": [],
   "source": [
    "class H:\n",
    "    def __init__(self, D):\n",
    "        self.D = D\n",
    "        self.W = np.random.rand(self.D)\n",
    "        \n",
    "    def __call__(self, x):\n",
    "        z = np.sum( self.W * x )\n",
    "        return 1/(1+np.exp(-z))\n",
    "    \n",
    "    def reset(self):\n",
    "        self.W = np.random.rand(self.D)"
   ]
  },
  {
   "cell_type": "code",
   "execution_count": 22,
   "metadata": {},
   "outputs": [],
   "source": [
    "m = X.shape[0]\n",
    "D = X.shape[1]\n",
    "h = H(D)"
   ]
  },
  {
   "cell_type": "markdown",
   "metadata": {},
   "source": [
    "Predicción:"
   ]
  },
  {
   "cell_type": "code",
   "execution_count": 23,
   "metadata": {},
   "outputs": [],
   "source": [
    "def predict(X):\n",
    "    y_ = np.array([h(x) for x in X])\n",
    "    return y_"
   ]
  },
  {
   "cell_type": "code",
   "execution_count": 24,
   "metadata": {},
   "outputs": [],
   "source": [
    "def tlog(X):\n",
    "    return np.clip(np.log(X), a_min=-1000, a_max=0)\n",
    "\n",
    "def calc_loss(X, Y):\n",
    "    J = (-1/m)*np.sum( Y*tlog(predict(X))+(1-Y)*tlog(1-predict(X)) )\n",
    "    return J"
   ]
  },
  {
   "cell_type": "markdown",
   "metadata": {},
   "source": [
    "Cálculo de gradiente:"
   ]
  },
  {
   "cell_type": "code",
   "execution_count": 25,
   "metadata": {},
   "outputs": [],
   "source": [
    "def calc_gradient(X, Y):\n",
    "    dJ = np.zeros(D)\n",
    "    errors = predict(X)-Y\n",
    "    for d in range(D):\n",
    "        dJ[d] = (1/m)*sum(errors*X[:,d])\n",
    "    return dJ"
   ]
  },
  {
   "cell_type": "code",
   "execution_count": 26,
   "metadata": {},
   "outputs": [
    {
     "data": {
      "text/plain": [
       "array([-0.08000059,  0.45693817,  0.31253525,  0.47046555,  0.4438822 ,\n",
       "        0.28236862,  0.47582711,  0.50620543,  0.53787958,  0.2791475 ,\n",
       "        0.09712149,  0.38192469,  0.04306257,  0.38211   ,  0.35457454,\n",
       "        0.01262398,  0.30599176,  0.25886185,  0.33983784,  0.04158223,\n",
       "        0.16862539,  0.49511442,  0.33556396,  0.50393776,  0.46808961,\n",
       "        0.31754378,  0.46033965,  0.4854196 ,  0.5534296 ,  0.31424132,\n",
       "        0.30517502])"
      ]
     },
     "execution_count": 26,
     "metadata": {},
     "output_type": "execute_result"
    }
   ],
   "source": [
    "calc_gradient(Xtrain, Ytrain)"
   ]
  },
  {
   "cell_type": "markdown",
   "metadata": {},
   "source": [
    "### Métricas"
   ]
  },
  {
   "cell_type": "markdown",
   "metadata": {},
   "source": [
    "Matriz de confusión:"
   ]
  },
  {
   "cell_type": "code",
   "execution_count": 27,
   "metadata": {},
   "outputs": [],
   "source": [
    "def conf_matriz(y_, y, th):\n",
    "    yth_ = y_>th\n",
    "    yth = y>0.5\n",
    "    tp = np.sum( np.logical_and(yth, yth_) )\n",
    "    tn = np.sum( np.logical_not( np.logical_or(yth, yth_) ) )\n",
    "    xor = np.logical_xor(yth, yth_)\n",
    "    fn = np.sum( np.logical_and(xor, yth) )\n",
    "    fp = np.sum( np.logical_and(xor, yth_) )\n",
    "    return tp, fp, fn, tn"
   ]
  },
  {
   "cell_type": "markdown",
   "metadata": {},
   "source": [
    "F1 Score:"
   ]
  },
  {
   "cell_type": "code",
   "execution_count": 28,
   "metadata": {},
   "outputs": [],
   "source": [
    "def f1_score(y_, y):\n",
    "    tp, fp, fn, tn = conf_matriz(y_, y, 0.5)\n",
    "    precision = tp/(tp+fp)\n",
    "    recall = tp/(tp+fn)\n",
    "    return (2*precision*recall)/(precision+recall)"
   ]
  },
  {
   "cell_type": "markdown",
   "metadata": {},
   "source": [
    "ROC:"
   ]
  },
  {
   "cell_type": "code",
   "execution_count": 29,
   "metadata": {},
   "outputs": [],
   "source": [
    "def roc(y_, y):\n",
    "    tpr=[]\n",
    "    fpr=[]\n",
    "    for th in np.linspace(1.0, 0.0, 100):\n",
    "        tp, fp, fn, tn = conf_matriz(y_, y, th)\n",
    "        tpr.append( tp/(tp+fn) )\n",
    "        fpr.append( fp/(fp+tn) )\n",
    "    return tpr, fpr"
   ]
  },
  {
   "cell_type": "markdown",
   "metadata": {},
   "source": [
    "Área bajo la curva ROC:"
   ]
  },
  {
   "cell_type": "code",
   "execution_count": 30,
   "metadata": {},
   "outputs": [],
   "source": [
    "def auc_roc(y_, y):\n",
    "    area = 0.0\n",
    "    y, x = roc(y_, y)\n",
    "    for i in range(len(x)-1):\n",
    "        area += ( (y[i]+y[i+1])/2 ) * (x[i+1]-x[i])\n",
    "    return area"
   ]
  },
  {
   "cell_type": "markdown",
   "metadata": {},
   "source": [
    "Curva de entrenamiento:"
   ]
  },
  {
   "cell_type": "code",
   "execution_count": 31,
   "metadata": {},
   "outputs": [],
   "source": [
    "def learning_curve(l_train_ep, l_test_ep, l_train, l_test, f1_test, auc_test):\n",
    "    color_loss = 'tab:red'\n",
    "    color_loss2 = 'tab:orange'\n",
    "    color_eval = 'tab:blue'\n",
    "    color_eval2 = 'tab:cyan'\n",
    "    fig, ax1 = plt.subplots()\n",
    "    ax1.set_title('Learning Curve')\n",
    "    ax1.set_xlabel('Episodes')\n",
    "    ax1.set_ylabel('loss', color=color_loss)\n",
    "    ax1.plot(l_train_ep, l_train, color=color_loss, label='Train Loss')\n",
    "    ax1.plot(l_test_ep, l_test, color=color_loss2, label='Test Loss')\n",
    "    ax1.tick_params(axis='y', labelcolor=color_loss)\n",
    "    ax2 = ax1.twinx()\n",
    "    # ax2.set_ylabel('0.0-1.0', color=color_eval)\n",
    "    ax2.tick_params(axis='y', labelcolor=color_eval)\n",
    "    ax2.plot(l_test_ep, f1_test, color=color_eval, label='F1 Test')\n",
    "    ax2.plot(l_test_ep, auc_test, color=color_eval2, label='AUC Test')\n",
    "    leg = fig.legend();"
   ]
  },
  {
   "cell_type": "markdown",
   "metadata": {},
   "source": [
    "Prueba de N muestras aleatorias:"
   ]
  },
  {
   "cell_type": "markdown",
   "metadata": {},
   "source": [
    "### Entrenamiento con entradas lineales\n",
    "\n",
    "Entradas:\n",
    "\n",
    "$$(x_0, x_1, ..., x_{30})$$\n",
    "\n",
    "Parámetros"
   ]
  },
  {
   "cell_type": "code",
   "execution_count": 32,
   "metadata": {},
   "outputs": [],
   "source": [
    "h.reset()\n",
    "alpha = 0.01\n",
    "num_episodes = 500\n",
    "test_interval = 10\n",
    "\n",
    "l_train = []\n",
    "l_train_ep = []\n",
    "l_test = []\n",
    "f1_test = []\n",
    "auc_test = []\n",
    "l_test_ep = []"
   ]
  },
  {
   "cell_type": "markdown",
   "metadata": {},
   "source": [
    "Entrenamiento"
   ]
  },
  {
   "cell_type": "code",
   "execution_count": 33,
   "metadata": {},
   "outputs": [
    {
     "name": "stderr",
     "output_type": "stream",
     "text": [
      "/home/camilo/anaconda3/envs/vision/lib/python3.6/site-packages/ipykernel_launcher.py:2: RuntimeWarning: divide by zero encountered in log\n",
      "  \n"
     ]
    }
   ],
   "source": [
    "for i in range(num_episodes):\n",
    "    # Descenso de gradiente\n",
    "    h.W = h.W - alpha * calc_gradient(Xtrain, Ytrain)\n",
    "    # Pérdida de entrenamiento\n",
    "    loss = calc_loss(Xtrain, Ytrain)\n",
    "    l_train.append(loss)\n",
    "    l_train_ep.append(i)\n",
    "    if i==0 or (i%test_interval)==0 or i==(num_episodes-1):\n",
    "        # Pérdida en prueba\n",
    "        l_test.append( calc_loss(Xtest, Ytest) )\n",
    "        f1_test.append( f1_score(predict(Xtest), Ytest) )\n",
    "        auc_test.append( auc_roc(predict(Xtest), Ytest) )\n",
    "        l_test_ep.append(i)"
   ]
  },
  {
   "cell_type": "markdown",
   "metadata": {},
   "source": [
    "Curva de entrenamiento:"
   ]
  },
  {
   "cell_type": "code",
   "execution_count": 34,
   "metadata": {},
   "outputs": [
    {
     "data": {
      "image/png": "[encoded data removed]",
      "text/plain": [
       "<Figure size 432x288 with 2 Axes>"
      ]
     },
     "metadata": {
      "needs_background": "light"
     },
     "output_type": "display_data"
    }
   ],
   "source": [
    "learning_curve(l_train_ep, l_test_ep, l_train, l_test, f1_test, auc_test)"
   ]
  },
  {
   "cell_type": "markdown",
   "metadata": {},
   "source": [
    "F1 Score:"
   ]
  },
  {
   "cell_type": "code",
   "execution_count": 35,
   "metadata": {},
   "outputs": [
    {
     "data": {
      "text/plain": [
       "0.9885931558935361"
      ]
     },
     "execution_count": 35,
     "metadata": {},
     "output_type": "execute_result"
    }
   ],
   "source": [
    "f1_score(predict(Xtest), Ytest)"
   ]
  },
  {
   "cell_type": "markdown",
   "metadata": {},
   "source": [
    "ROC:"
   ]
  },
  {
   "cell_type": "code",
   "execution_count": 36,
   "metadata": {},
   "outputs": [
    {
     "data": {
      "text/plain": [
       "[<matplotlib.lines.Line2D at 0x7ff43dab9828>]"
      ]
     },
     "execution_count": 36,
     "metadata": {},
     "output_type": "execute_result"
    },
    {
     "data": {
      "image/png": "[encoded data removed]",
      "text/plain": [
       "<Figure size 432x288 with 1 Axes>"
      ]
     },
     "metadata": {
      "needs_background": "light"
     },
     "output_type": "display_data"
    }
   ],
   "source": [
    "tpr, fpr = roc(predict(Xtest), Ytest)\n",
    "plt.plot(fpr, tpr)"
   ]
  },
  {
   "cell_type": "markdown",
   "metadata": {},
   "source": [
    "Área bajo la curva ROC:"
   ]
  },
  {
   "cell_type": "code",
   "execution_count": 37,
   "metadata": {},
   "outputs": [
    {
     "data": {
      "text/plain": [
       "0.9996114996114996"
      ]
     },
     "execution_count": 37,
     "metadata": {},
     "output_type": "execute_result"
    }
   ],
   "source": [
    "auc_roc(predict(Xtest), Ytest)"
   ]
  },
  {
   "cell_type": "markdown",
   "metadata": {},
   "source": [
    "Prueba de 5 muestras del dataset de prueba:"
   ]
  },
  {
   "cell_type": "code",
   "execution_count": 38,
   "metadata": {},
   "outputs": [
    {
     "name": "stdout",
     "output_type": "stream",
     "text": [
      "El registro 86 es MALIGNO, y fue predicho como MALIGNO\n",
      "El registro 163 es MALIGNO, y fue predicho como MALIGNO\n",
      "El registro 131 es MALIGNO, y fue predicho como MALIGNO\n",
      "El registro 67 es MALIGNO, y fue predicho como MALIGNO\n",
      "El registro 170 es MALIGNO, y fue predicho como MALIGNO\n"
     ]
    }
   ],
   "source": [
    "samples = np.random.randint(0, Xtest.shape[0] ,5)\n",
    "for i in samples:\n",
    "    y_real = 'MALIGNO' if Ytest[i]==1.0 else 'BENIGNO'\n",
    "    y_pred = 'MALIGNO' if h(Xtest[i])>0.5 else 'BENIGNO'\n",
    "    print(f'El registro {i} es {y_real}, y fue predicho como {y_pred}')"
   ]
  },
  {
   "cell_type": "markdown",
   "metadata": {},
   "source": [
    "### Entrenamiento con entradas lineales y al cuadrado\n",
    "\n",
    "Entradas:\n",
    "\n",
    "$$(x_0, x_1, ..., x_{30}, x_0^2, x_1^2, ..., x_{30}^2)$$\n",
    "\n",
    "Nueva hipótesis:"
   ]
  },
  {
   "cell_type": "code",
   "execution_count": 39,
   "metadata": {},
   "outputs": [],
   "source": [
    "class H2:\n",
    "    def __init__(self, D):\n",
    "        self.D = D\n",
    "        self.W = np.random.rand(2*self.D)\n",
    "        \n",
    "    def __call__(self, x):\n",
    "        x2 = np.hstack( (x, x**2) )\n",
    "        z = np.sum( self.W * x )\n",
    "        return 1/(1+np.exp(-z))\n",
    "    \n",
    "    def reset(self):\n",
    "        self.W = np.random.rand(2*self.D)"
   ]
  },
  {
   "cell_type": "code",
   "execution_count": 40,
   "metadata": {},
   "outputs": [],
   "source": [
    "h = H(D)"
   ]
  },
  {
   "cell_type": "code",
   "execution_count": 41,
   "metadata": {},
   "outputs": [],
   "source": [
    "h.reset()\n",
    "alpha = 0.01\n",
    "num_episodes = 500\n",
    "test_interval = 10\n",
    "\n",
    "l_train = []\n",
    "l_train_ep = []\n",
    "l_test = []\n",
    "f1_test = []\n",
    "auc_test = []\n",
    "l_test_ep = []"
   ]
  },
  {
   "cell_type": "markdown",
   "metadata": {},
   "source": [
    "Entrenamiento"
   ]
  },
  {
   "cell_type": "code",
   "execution_count": 42,
   "metadata": {},
   "outputs": [
    {
     "name": "stderr",
     "output_type": "stream",
     "text": [
      "/home/camilo/anaconda3/envs/vision/lib/python3.6/site-packages/ipykernel_launcher.py:2: RuntimeWarning: divide by zero encountered in log\n",
      "  \n"
     ]
    }
   ],
   "source": [
    "for i in range(num_episodes):\n",
    "    # Descenso de gradiente\n",
    "    h.W = h.W - alpha * calc_gradient(Xtrain, Ytrain)\n",
    "    # Pérdida de entrenamiento\n",
    "    loss = calc_loss(Xtrain, Ytrain)\n",
    "    l_train.append(loss)\n",
    "    l_train_ep.append(i)\n",
    "    if i==0 or (i%test_interval)==0 or i==(num_episodes-1):\n",
    "        # Pérdida en prueba\n",
    "        l_test.append( calc_loss(Xtest, Ytest) )\n",
    "        f1_test.append( f1_score(predict(Xtest), Ytest) )\n",
    "        auc_test.append( auc_roc(predict(Xtest), Ytest) )\n",
    "        l_test_ep.append(i)"
   ]
  },
  {
   "cell_type": "markdown",
   "metadata": {},
   "source": [
    "Curva de entrenamiento:"
   ]
  },
  {
   "cell_type": "code",
   "execution_count": 43,
   "metadata": {},
   "outputs": [
    {
     "data": {
      "image/png": "[encoded data removed]",
      "text/plain": [
       "<Figure size 432x288 with 2 Axes>"
      ]
     },
     "metadata": {
      "needs_background": "light"
     },
     "output_type": "display_data"
    }
   ],
   "source": [
    "learning_curve(l_train_ep, l_test_ep, l_train, l_test, f1_test, auc_test)"
   ]
  },
  {
   "cell_type": "markdown",
   "metadata": {},
   "source": [
    "F1 Score:"
   ]
  },
  {
   "cell_type": "code",
   "execution_count": 44,
   "metadata": {},
   "outputs": [
    {
     "data": {
      "text/plain": [
       "0.9652509652509653"
      ]
     },
     "execution_count": 44,
     "metadata": {},
     "output_type": "execute_result"
    }
   ],
   "source": [
    "f1_score(predict(Xtest), Ytest)"
   ]
  },
  {
   "cell_type": "markdown",
   "metadata": {},
   "source": [
    "ROC:"
   ]
  },
  {
   "cell_type": "code",
   "execution_count": 45,
   "metadata": {},
   "outputs": [
    {
     "data": {
      "text/plain": [
       "[<matplotlib.lines.Line2D at 0x7ff43d96bf98>]"
      ]
     },
     "execution_count": 45,
     "metadata": {},
     "output_type": "execute_result"
    },
    {
     "data": {
      "image/png": "[encoded data removed]",
      "text/plain": [
       "<Figure size 432x288 with 1 Axes>"
      ]
     },
     "metadata": {
      "needs_background": "light"
     },
     "output_type": "display_data"
    }
   ],
   "source": [
    "tpr, fpr = roc(predict(Xtest), Ytest)\n",
    "plt.plot(fpr, tpr)"
   ]
  },
  {
   "cell_type": "markdown",
   "metadata": {},
   "source": [
    "Área bajo la curva ROC:"
   ]
  },
  {
   "cell_type": "code",
   "execution_count": 46,
   "metadata": {},
   "outputs": [
    {
     "data": {
      "text/plain": [
       "0.9903846153846154"
      ]
     },
     "execution_count": 46,
     "metadata": {},
     "output_type": "execute_result"
    }
   ],
   "source": [
    "auc_roc(predict(Xtest), Ytest)"
   ]
  },
  {
   "cell_type": "markdown",
   "metadata": {},
   "source": [
    "Prueba de 5 muestras del dataset de prueba:"
   ]
  },
  {
   "cell_type": "code",
   "execution_count": 47,
   "metadata": {},
   "outputs": [
    {
     "name": "stdout",
     "output_type": "stream",
     "text": [
      "El registro 75 es MALIGNO, y fue predicho como MALIGNO\n",
      "El registro 26 es MALIGNO, y fue predicho como MALIGNO\n",
      "El registro 79 es MALIGNO, y fue predicho como MALIGNO\n",
      "El registro 99 es MALIGNO, y fue predicho como MALIGNO\n",
      "El registro 48 es BENIGNO, y fue predicho como BENIGNO\n"
     ]
    }
   ],
   "source": [
    "samples = np.random.randint(0, Xtest.shape[0] ,5)\n",
    "for i in samples:\n",
    "    real = 'MALIGNO' if Ytest[i]==1.0 else 'BENIGNO'\n",
    "    predict = 'MALIGNO' if h(Xtest[i])>0.5 else 'BENIGNO'\n",
    "    print(f'El registro {i} es {real}, y fue predicho como {predict}')"
   ]
  },
  {
   "cell_type": "code",
   "execution_count": 48,
   "metadata": {},
   "outputs": [
    {
     "data": {
      "text/plain": [
       "array([ 4.28545314e-01,  1.59075687e-02,  5.42171788e-02, -3.89362677e-01,\n",
       "       -3.06242406e-01, -1.28122964e-01, -2.42035152e-01, -3.63383569e-01,\n",
       "       -1.60318861e-01, -1.62930281e-02, -1.44499145e-01,  1.24244091e-01,\n",
       "        1.11052341e-01, -4.10974794e-01, -1.24279045e-01,  1.28136012e-01,\n",
       "       -1.20247969e-01,  2.83078644e-01,  2.39766598e-01,  1.67560192e-01,\n",
       "        9.23073582e-02, -4.94513987e-01, -2.24667715e-01, -7.28474678e-01,\n",
       "       -2.96861168e-01, -8.76084803e-02, -6.36079537e-01,  6.75109234e-02,\n",
       "       -2.97272499e-01,  5.61870196e-04,  1.99751483e-01])"
      ]
     },
     "execution_count": 48,
     "metadata": {},
     "output_type": "execute_result"
    }
   ],
   "source": [
    "h.W"
   ]
  }
 ],
 "metadata": {
  "kernelspec": {
   "display_name": "Python 3",
   "language": "python",
   "name": "python3"
  },
  "language_info": {
   "codemirror_mode": {
    "name": "ipython",
    "version": 3
   },
   "file_extension": ".py",
   "mimetype": "text/x-python",
   "name": "python",
   "nbconvert_exporter": "python",
   "pygments_lexer": "ipython3",
   "version": "3.6.10"
  }
 },
 "nbformat": 4,
 "nbformat_minor": 4
}
