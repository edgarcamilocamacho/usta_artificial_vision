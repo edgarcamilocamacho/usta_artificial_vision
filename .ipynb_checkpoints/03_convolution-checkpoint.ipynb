{
 "cells": [
  {
   "cell_type": "markdown",
   "metadata": {},
   "source": [
    "# Linear filtering (neighborhood operator)\n",
    "\n",
    "Linear filters can be performed as a correlation operation:\n",
    "\n",
    "$$g = f \\otimes h$$\n",
    "\n",
    "$$g(i,j) = \\sum_{k,l}f(i+k, j+l)h(k,l)$$\n",
    "\n",
    "Where $g$ is the filtered image, $f$ is the original image and $h$ is the filter, whose value are called *filter coefficients*, and **the sum of them must be *1.0***.\n",
    "\n",
    "<div class=\"picture\">\n",
    "  <img style=\"width:90%;\" src =\"images/1_linear_filter.png\" />\n",
    "  <div>[Szeliski11]</div>\n",
    "</div>\n",
    "\n",
    "The linear filter can also be executed as a convolution operation:\n",
    "\n",
    "$$g = f \\ast h$$\n",
    "\n",
    "$$g(i,j) = \\sum_{k,l}f(i-k, j-l)h(k,l) = \\sum_{k,l}f(k, l)h(i-k,j-l)$$\n",
    "\n",
    "Correlation and convolution are shift-invariant operations, but a shift-variant version could be used:\n",
    "\n",
    "$$g(i,j) = \\sum_{k,l}f(i-k, j-l)h(k,l;i,j)$$"
   ]
  },
  {
   "cell_type": "markdown",
   "metadata": {},
   "source": [
    "\n",
    "## Padding (border effect)\n",
    "\n",
    "When border pixel are calculated, the filter need pixels that outside the image, there are some processes to face this problem:\n",
    "\n",
    "* ***zero***: read the outside pixels as zero.\n",
    "* ***constant***: read the outside pixels as a specific value, usually L/2.\n",
    "* ***clamp***: repeat the border pixels.\n",
    "* ***wrap***: loop “around” the image in a “toroidal” configuration.\n",
    "* ***mirror***: reflect the image.\n",
    "\n",
    "<div class=\"picture\">\n",
    "  <img style=\"width:90%;\" src =\"images/1_padding.png\" />\n",
    "  <div>[Szeliski11]</div>\n",
    "</div>"
   ]
  },
  {
   "cell_type": "markdown",
   "metadata": {},
   "source": [
    "## Typical filters\n",
    "\n",
    "### Average (mean) filter\n",
    "\n",
    "It is an squared filter with the same value in all its cells, and whose sum is 1.0."
   ]
  },
  {
   "cell_type": "code",
   "execution_count": null,
   "metadata": {},
   "outputs": [],
   "source": [
    "from scipy import signal\n",
    "\n",
    "def mean_filter(img, N):\n",
    "    kernel = np.ones((N,N))/(N*N)\n",
    "    return signal.convolve2d(imgFace1, kernel, boundary='symm', mode='same')\n",
    "\n",
    "imgFace1 = cv2.imread('images/1_face1.jpg', 0)\n",
    "fig=plt.figure(figsize=(18, 16), dpi= 80)\n",
    "plt.subplot(141)\n",
    "plot_image(imgFace1)\n",
    "plt.title('Original')\n",
    "\n",
    "sizes = [3, 5, 7]\n",
    "\n",
    "for i, size in enumerate(sizes):\n",
    "    plt.subplot(142+i)\n",
    "    filtered = mean_filter(imgFace1, size)\n",
    "    plot_image(filtered)\n",
    "    plt.title(f'{size}x{size} Filter')"
   ]
  },
  {
   "cell_type": "markdown",
   "metadata": {},
   "source": [
    "Original image from https://homepages.inf.ed.ac.uk/rbf/HIPR2/filtops.htm"
   ]
  },
  {
   "cell_type": "code",
   "execution_count": null,
   "metadata": {},
   "outputs": [],
   "source": [
    "imgFace1 = cv2.imread('images/1_face2.jpg', 0)\n",
    "fig=plt.figure(figsize=(18, 16), dpi= 80)\n",
    "plt.subplot(141)\n",
    "plot_image(imgFace1)\n",
    "plt.title('Original')\n",
    "\n",
    "sizes = [3, 5]\n",
    "\n",
    "for i, size in enumerate(sizes):\n",
    "    plt.subplot(142+i)\n",
    "    filtered = mean_filter(imgFace1, size)\n",
    "    plot_image(filtered)\n",
    "    plt.title(f'{size}x{size} Filter')"
   ]
  },
  {
   "cell_type": "markdown",
   "metadata": {},
   "source": [
    "Original image from https://homepages.inf.ed.ac.uk/rbf/HIPR2/filtops.htm"
   ]
  },
  {
   "cell_type": "markdown",
   "metadata": {},
   "source": [
    "### Gaussian filter\n",
    "\n",
    "Modeled by:\n",
    "\n",
    "$$G(x, y) = \\frac{1}{2 \\pi \\sigma^2} e ^ {-\\frac{x^2 + y^2}{2 \\sigma^2}}$$\n",
    "\n",
    "<div class=\"picture\">\n",
    "  <img style=\"width:35%;\" src =\"images/1_gauss_plot.png\" />\n",
    "</div>\n",
    "\n",
    "Values example:\n",
    "\n",
    "<div class=\"picture\">\n",
    "  <img style=\"width:25%;\" src =\"images/1_gauss_table.png\" />\n",
    "</div>\n",
    "\n",
    "Implementation:"
   ]
  },
  {
   "cell_type": "code",
   "execution_count": null,
   "metadata": {},
   "outputs": [],
   "source": [
    "from scipy.ndimage import gaussian_filter\n",
    "\n",
    "imgRobot = cv2.imread('images/1_camera.jpg', 0)\n",
    "fig=plt.figure(figsize=(18, 16), dpi= 70)\n",
    "plt.subplot(161)\n",
    "plot_image(imgRobot)\n",
    "plt.title('Original')\n",
    "\n",
    "sigmas = [1, 2, 3, 4, 5]\n",
    "\n",
    "for i, sigma in enumerate(sigmas):\n",
    "    plt.subplot(162+i)\n",
    "    filtered = result = gaussian_filter(imgRobot, sigma=sigma)\n",
    "    plot_image(filtered)\n",
    "    plt.title(f'sigma={sigma}')\n",
    "\n"
   ]
  },
  {
   "cell_type": "markdown",
   "metadata": {},
   "source": [
    "### Sobel filters\n",
    "\n",
    "Gradients in $x$ and $y$ are calculated.\n",
    "\n",
    "<div class=\"picture\">\n",
    "  <img style=\"width:50%;\" src =\"images/1_sobel_eq.png\" />\n",
    "</div>\n",
    "\n",
    "Then, the magnitude and direction can be computed:\n",
    "\n",
    "<div class=\"picture\">\n",
    "  <img style=\"width:15%;\" src =\"images/1_sobel_mg.png\" />\n",
    "  <img style=\"width:15%;\" src =\"images/1_sobel_ph.png\" />\n",
    "</div>"
   ]
  },
  {
   "cell_type": "code",
   "execution_count": null,
   "metadata": {},
   "outputs": [],
   "source": [
    "imgSobel1 = cv2.imread('images/1_sobel1.png', 0)\n",
    "gx = cv2.Sobel(imgSobel1, cv2.CV_32F, 1, 0)\n",
    "gy = cv2.Sobel(imgSobel1, cv2.CV_32F, 0, 1)\n",
    "mag, ang = cv2.cartToPolar(gx, gy)\n",
    "\n",
    "fig=plt.figure(figsize=(18, 16), dpi= 70)\n",
    "\n",
    "plt.subplot(131)\n",
    "plot_image(imgSobel1); plt.title('Original')\n",
    "plt.subplot(132)\n",
    "plot_image(gx); plt.title('Gx')\n",
    "plt.subplot(133)\n",
    "plot_image(gy); plt.title('Gy')"
   ]
  },
  {
   "cell_type": "code",
   "execution_count": null,
   "metadata": {},
   "outputs": [],
   "source": [
    "fig=plt.figure(figsize=(18, 16), dpi= 70)\n",
    "\n",
    "plt.subplot(131)\n",
    "plot_image(mag); plt.title('Magnitude')\n",
    "plt.subplot(132)\n",
    "plot_image(255*ang/ang.max()); plt.title('Phase')"
   ]
  }
 ],
 "metadata": {
  "kernelspec": {
   "display_name": "Python 3",
   "language": "python",
   "name": "python3"
  },
  "language_info": {
   "codemirror_mode": {
    "name": "ipython",
    "version": 3
   },
   "file_extension": ".py",
   "mimetype": "text/x-python",
   "name": "python",
   "nbconvert_exporter": "python",
   "pygments_lexer": "ipython3",
   "version": "3.6.10"
  }
 },
 "nbformat": 4,
 "nbformat_minor": 4
}
